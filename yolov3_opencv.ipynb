{
 "cells": [
  {
   "cell_type": "markdown",
   "metadata": {},
   "source": [
    "### Check environment "
   ]
  },
  {
   "cell_type": "code",
   "execution_count": 1,
   "metadata": {},
   "outputs": [
    {
     "name": "stdout",
     "output_type": "stream",
     "text": [
      "Mon Sep 28 02:31:19 2020       \r\n",
      "+-----------------------------------------------------------------------------+\r\n",
      "| NVIDIA-SMI 450.51.06    Driver Version: 450.51.06    CUDA Version: 11.0     |\r\n",
      "|-------------------------------+----------------------+----------------------+\r\n",
      "| GPU  Name        Persistence-M| Bus-Id        Disp.A | Volatile Uncorr. ECC |\r\n",
      "| Fan  Temp  Perf  Pwr:Usage/Cap|         Memory-Usage | GPU-Util  Compute M. |\r\n",
      "|                               |                      |               MIG M. |\r\n",
      "|===============================+======================+======================|\r\n",
      "|   0  Tesla T4            On   | 00000000:00:1E.0 Off |                    0 |\r\n",
      "| N/A   34C    P8     9W /  70W |      0MiB / 15109MiB |      0%      Default |\r\n",
      "|                               |                      |                  N/A |\r\n",
      "+-------------------------------+----------------------+----------------------+\r\n",
      "                                                                               \r\n",
      "+-----------------------------------------------------------------------------+\r\n",
      "| Processes:                                                                  |\r\n",
      "|  GPU   GI   CI        PID   Type   Process name                  GPU Memory |\r\n",
      "|        ID   ID                                                   Usage      |\r\n",
      "|=============================================================================|\r\n",
      "|  No running processes found                                                 |\r\n",
      "+-----------------------------------------------------------------------------+\r\n"
     ]
    }
   ],
   "source": [
    "!nvidia-smi"
   ]
  },
  {
   "cell_type": "code",
   "execution_count": null,
   "metadata": {},
   "outputs": [],
   "source": []
  },
  {
   "cell_type": "code",
   "execution_count": null,
   "metadata": {},
   "outputs": [],
   "source": [
    "%%bash \n",
    "cd /home/ubuntu/\n",
    "python OpenCV-Darknet.py"
   ]
  },
  {
   "cell_type": "code",
   "execution_count": 8,
   "metadata": {},
   "outputs": [
    {
     "name": "stdout",
     "output_type": "stream",
     "text": [
      "sudo apt-get -y update\r\n",
      "sudo apt-get -y upgrade\r\n",
      "wget -O opencv.zip https://github.com/opencv/opencv/archive/4.2.0.zip\r\n",
      "wget -O opencv_contrib.zip https://github.com/opencv/opencv_contrib/archive/4.2.0.zip\r\n",
      "unzip opencv.zip\r\n",
      "unzip opencv_contrib.zip\r\n",
      "mv opencv-4.2.0 opencv\r\n",
      "mv opencv_contrib-4.2.0 opencv_contrib\r\n",
      "wget https://bootstrap.pypa.io/get-pip.py\r\n",
      "python3 get-pip.py\r\n",
      "sudo bash -c \u001b[33m'echo \"/usr/local/cuda-11.0/targets/x86_64-linux/lib/\" > /etc/ld.so.conf.d/cuda.conf'\u001b[39;49;00m\r\n",
      "sudo ldconfig -v\r\n",
      "\u001b[36mcd\u001b[39;49;00m opencv/cmake/;\r\n",
      "cp ../../OpenCVDetectCUDA11-compatible.cmake OpenCVDetectCUDA.cmake\r\n",
      "\u001b[37m#wget -O OpenCVDetectCUDA.cmake https://raw.githubusercontent.com/catwhiskers/yolo-gpu-opt-playground/master/opencv-inf/OpenCVDetectCUDA11-compatible.cmake\u001b[39;49;00m\r\n",
      "\u001b[36mcd\u001b[39;49;00m ../;mkdir build; \u001b[36mcd\u001b[39;49;00m build/\r\n",
      "sudo apt-get install -y build-essential cmake unzip pkg-config  libjpeg-dev libpng-dev libtiff-dev libavcodec-dev libavformat-dev libswscale-dev libv4l-dev libxvidcore-dev libx264-dev libgtk-3-dev  libatlas-base-dev gfortran python3-dev wget unzip\r\n",
      "cmake -D \u001b[31mCMAKE_BUILD_TYPE\u001b[39;49;00m=RELEASE -D \u001b[31mCMAKE_INSTALL_PREFIX\u001b[39;49;00m=/usr/local -D \u001b[31mINSTALL_PYTHON_EXAMPLES\u001b[39;49;00m=ON -D \u001b[31mINSTALL_C_EXAMPLES\u001b[39;49;00m=OFF -D \u001b[31mOPENCV_ENABLE_NONFREE\u001b[39;49;00m=ON -D \u001b[31mWITH_CUDA\u001b[39;49;00m=ON -D \u001b[31mWITH_CUDNN\u001b[39;49;00m=ON -D \u001b[31mOPENCV_DNN_CUDA\u001b[39;49;00m=ON -D \u001b[31mENABLE_FAST_MATH\u001b[39;49;00m=\u001b[34m1\u001b[39;49;00m -D \u001b[31mCUDA_FAST_MATH\u001b[39;49;00m=\u001b[34m1\u001b[39;49;00m -D \u001b[31mCUDA_ARCH_BIN\u001b[39;49;00m=\u001b[34m7\u001b[39;49;00m.5 -DOPENCV_EXTRA_MODULES_PATH=../../opencv_contrib/modules -D \u001b[31mHAVE_opencv_python3\u001b[39;49;00m=ON -D \u001b[31mPYTHON_EXECUTABLE\u001b[39;49;00m=/usr/bin/python3 -D \u001b[31mCMAKE_LIBRARY_PATH\u001b[39;49;00m=/usr/local/cuda-11.0/targets/x86_64-linux/lib/stubs/ -D \u001b[31mBUILD_opencv_world\u001b[39;49;00m=OFF -D \u001b[31mBUILD_EXAMPLES\u001b[39;49;00m=ON ..\r\n",
      "make -j8\r\n",
      "sudo make install\r\n",
      "pip3.6 install imutils\r\n"
     ]
    }
   ],
   "source": [
    "!pygmentize opencv-inf/compile_opencv.sh "
   ]
  },
  {
   "cell_type": "code",
   "execution_count": null,
   "metadata": {},
   "outputs": [],
   "source": []
  }
 ],
 "metadata": {
  "kernelspec": {
   "display_name": "Python 3",
   "language": "python",
   "name": "python3"
  },
  "language_info": {
   "codemirror_mode": {
    "name": "ipython",
    "version": 3
   },
   "file_extension": ".py",
   "mimetype": "text/x-python",
   "name": "python",
   "nbconvert_exporter": "python",
   "pygments_lexer": "ipython3",
   "version": "3.7.6"
  }
 },
 "nbformat": 4,
 "nbformat_minor": 4
}
